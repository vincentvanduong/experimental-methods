{
 "cells": [
  {
   "cell_type": "code",
   "execution_count": 23,
   "metadata": {
    "collapsed": true
   },
   "outputs": [],
   "source": [
    "import matplotlib.pyplot as plt\n",
    "import numpy as np\n",
    "import os"
   ]
  },
  {
   "cell_type": "code",
   "execution_count": 28,
   "metadata": {
    "collapsed": true
   },
   "outputs": [],
   "source": [
    "def mymean(x):\n",
    "    mean = 0\n",
    "    for i in x:\n",
    "        mean = mean + i\n",
    "    mean = mean / (len(x))\n",
    "    return(mean)"
   ]
  },
  {
   "cell_type": "markdown",
   "metadata": {},
   "source": [
    "This function mimicks the recursive nature of a summation over all entries of x"
   ]
  },
  {
   "cell_type": "code",
   "execution_count": 27,
   "metadata": {
    "collapsed": true
   },
   "outputs": [],
   "source": [
    "def mystd(x,ddof):\n",
    "    std = 0\n",
    "    mean_x = mymean(x)\n",
    "    for i in x:\n",
    "        std = std + (i - mean_x)**2\n",
    "    var = std / (len(x) - ddof)\n",
    "    std = np.sqrt(var)\n",
    "    return(std)"
   ]
  },
  {
   "cell_type": "markdown",
   "metadata": {},
   "source": [
    "This function also mimicks the recursiveness of a summation and even makes reference to the mean function previously defined."
   ]
  },
  {
   "cell_type": "code",
   "execution_count": 29,
   "metadata": {
    "collapsed": true
   },
   "outputs": [],
   "source": [
    "time =[101,96,133,45,105,48,34,92,74,75,99,112,62,99,69,121,119,50,93,89,84,124,51,58,34,132,97,77,96,85,97,85,106,82,139,46,32,33,27,68,73,63,111,95,112,131,136,43,36,103]\n",
    "calories =[1267,759,899,434,1489,681,544,929,934,376,949,1087,910,1188,469,1449,1218,395,1399,1114,1146,1775,678,874,630,1967,1321,1382,1167,1009,1716,860,1277,1286,1718,1004,723,491,82,1003,443,845,1598,1212,1633,2235,1936,601,645,1378]"
   ]
  },
  {
   "cell_type": "code",
   "execution_count": 30,
   "metadata": {},
   "outputs": [
    {
     "name": "stdout",
     "output_type": "stream",
     "text": [
      "83.44 31.4753936935 1062.5 468.984106166\n"
     ]
    }
   ],
   "source": [
    "mean_time = mymean(time)\n",
    "std_time = mystd(time,1)\n",
    "\n",
    "mean_calories = mymean(calories)\n",
    "std_calories = mystd(calories,1)\n",
    "\n",
    "print(mean_time,std_time,mean_calories,std_calories)"
   ]
  },
  {
   "cell_type": "markdown",
   "metadata": {},
   "source": [
    "a. The mean and sample standard deviation for the time is (83.4, 31.5) seconds respectively.  The mean and sample standard deviation for the calories is (1060, 469) calories respectively."
   ]
  },
  {
   "cell_type": "code",
   "execution_count": 31,
   "metadata": {},
   "outputs": [
    {
     "data": {
      "image/png": "[encoded data removed]",
      "text/plain": [
       "<matplotlib.figure.Figure at 0x118e97780>"
      ]
     },
     "metadata": {},
     "output_type": "display_data"
    }
   ],
   "source": [
    "plt.scatter(time,calories)\n",
    "plt.show()"
   ]
  },
  {
   "cell_type": "markdown",
   "metadata": {},
   "source": [
    "b. As time increases, so does the number of calories.  This is a positive corelation."
   ]
  },
  {
   "cell_type": "markdown",
   "metadata": {},
   "source": [
    "c. We expect a $\\rho$ for this data to be positive and closer to 1 than to 0. A 0 corelation is  horizontal line."
   ]
  },
  {
   "cell_type": "code",
   "execution_count": 39,
   "metadata": {
    "collapsed": true
   },
   "outputs": [],
   "source": [
    "def covar(x,y,ddof):\n",
    "    x_mean = mymean(x)\n",
    "    y_mean = mymean(x)\n",
    "    count = 0\n",
    "    for i in range(0, len(x)):\n",
    "        count += ((x[i] - x_mean) * (y[i] - y_mean))\n",
    "    sxy = count / (len(x) - ddof)\n",
    "    return(sxy)"
   ]
  },
  {
   "cell_type": "markdown",
   "metadata": {},
   "source": [
    "To mimick the inner product between the two arguments, a counter was created wich which stops at the last element of both arrays since they must be of the same dimension."
   ]
  },
  {
   "cell_type": "code",
   "execution_count": 40,
   "metadata": {
    "collapsed": true
   },
   "outputs": [],
   "source": [
    "def corco(x,y,ddof):\n",
    "    sxy = covar(x,y,ddof)\n",
    "    sx = mystd(x,ddof)\n",
    "    sy = mystd(y,ddof)\n",
    "    rxy = sxy / (sx * sy)\n",
    "    return(rxy)"
   ]
  },
  {
   "cell_type": "markdown",
   "metadata": {},
   "source": [
    "The corelation coeffecient can be computed from the past functions defined."
   ]
  },
  {
   "cell_type": "code",
   "execution_count": 42,
   "metadata": {},
   "outputs": [
    {
     "name": "stdout",
     "output_type": "stream",
     "text": [
      "0.81164752985\n"
     ]
    }
   ],
   "source": [
    "rxy = corco(time,calories,1)\n",
    "print(rxy)"
   ]
  },
  {
   "cell_type": "markdown",
   "metadata": {
    "collapsed": true
   },
   "source": [
    "Luca D’Angelo contributed to the laboratory Python programming, the analysis of the data and the discussion for the following parts:\n",
    "\ti)\n",
    "\tii)\n",
    "\n",
    "Vincent Duong contributed to the data visualization of the data, the discussion and the assignment. "
   ]
  }
 ],
 "metadata": {
  "kernelspec": {
   "display_name": "Python 3",
   "language": "python",
   "name": "python3"
  },
  "language_info": {
   "codemirror_mode": {
    "name": "ipython",
    "version": 3
   },
   "file_extension": ".py",
   "mimetype": "text/x-python",
   "name": "python",
   "nbconvert_exporter": "python",
   "pygments_lexer": "ipython3",
   "version": "3.6.1"
  }
 },
 "nbformat": 4,
 "nbformat_minor": 2
}
